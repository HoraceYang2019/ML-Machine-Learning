{
 "cells": [
  {
   "cell_type": "code",
   "execution_count": 1,
   "metadata": {
    "collapsed": true
   },
   "outputs": [],
   "source": [
    "#------------------------------------------------------------------------------   \n",
    "#------------------------------------------------------------------------------\n",
    "#Reference:\n",
    "# http://deap.readthedocs.io/en/master/index.html\n",
    "#------------------------------------------------------------------------------  "
   ]
  },
  {
   "cell_type": "code",
   "execution_count": 2,
   "metadata": {
    "slideshow": {
     "slide_type": "slide"
    }
   },
   "outputs": [],
   "source": [
    "from deap import base, creator, tools, algorithms\n",
    "import random"
   ]
  },
  {
   "cell_type": "raw",
   "metadata": {},
   "source": [
    "# create classes with a single line of code (inheritance);\n",
    "# add attributes (composition);\n",
    "# group classes in a single module (sandboxing)."
   ]
  },
  {
   "cell_type": "code",
   "execution_count": 3,
   "metadata": {},
   "outputs": [],
   "source": [
    "# create: FitnessMax Class，from: base.Fitness，attributes: weights =(1.0,)\n",
    "creator.create(\"FitnessMin\", base.Fitness, weights=(-1.0,))\n",
    "\n",
    "# create: class Individual, inheriting from: list, attribuites: fitness = FitnessMin \n",
    "creator.create(\"Individual\", list, fitness = creator.FitnessMin)"
   ]
  },
  {
   "cell_type": "code",
   "execution_count": 4,
   "metadata": {
    "collapsed": true
   },
   "outputs": [],
   "source": [
    "def calFitness(ind):\n",
    "    \n",
    "    result = sum(ind)\n",
    "    return (result,)"
   ]
  },
  {
   "cell_type": "raw",
   "metadata": {},
   "source": [
    "#for testing\n",
    "ind = creator.Individual([1,0,1,0,1])\n",
    "ind.fitness.values = (sum(ind),)"
   ]
  },
  {
   "cell_type": "code",
   "execution_count": 5,
   "metadata": {
    "collapsed": true
   },
   "outputs": [],
   "source": [
    "# create aliases for operators;\n",
    "# register operators' parameters;\n",
    "# interchange operators efficiently;\n",
    "# regroup all operators in a single structure."
   ]
  },
  {
   "cell_type": "code",
   "execution_count": 6,
   "metadata": {
    "collapsed": true
   },
   "outputs": [],
   "source": [
    "toolbox = base.Toolbox()\n",
    "\n",
    "# register: function attr_bool, parameter: random generator 0,1\n",
    "toolbox.register(\"attr_bool\", random.randint, 0, 1)"
   ]
  },
  {
   "cell_type": "raw",
   "metadata": {},
   "source": [
    "#for testing\n",
    "random.randint(0,1) # random generate 0 or 1"
   ]
  },
  {
   "cell_type": "code",
   "execution_count": 7,
   "metadata": {
    "collapsed": true
   },
   "outputs": [],
   "source": [
    "# register: individual (is assigned to the helper function)\n",
    "# create class individuals with attr_bool for n=100 times. It means that 100 genes (0,1) are generated as a chromosome\n",
    "# a chromosome represents a potential soluation of a problem\n",
    "toolbox.register(\"individual\", tools.initRepeat, creator.Individual, toolbox.attr_bool, n=10)"
   ]
  },
  {
   "cell_type": "raw",
   "metadata": {},
   "source": [
    "# for testing\n",
    "tools.initRepeat(list, random.random, 2) "
   ]
  },
  {
   "cell_type": "code",
   "execution_count": 8,
   "metadata": {
    "collapsed": true
   },
   "outputs": [],
   "source": [
    "# http://deap.readthedocs.io/en/master/api/tools.html#deap.tools.selTournament\n",
    "# register: population \n",
    "toolbox.register(\"population\", tools.initRepeat, list, toolbox.individual)"
   ]
  },
  {
   "cell_type": "code",
   "execution_count": 9,
   "metadata": {},
   "outputs": [],
   "source": [
    "# register: function evaluate, the fitness function is calFitness\n",
    "toolbox.register(\"evaluate\", calFitness)\n",
    "\n",
    "# register: function mate, parameter: tools.cxOnePoint), two points of matation\n",
    "toolbox.register(\"mate\", tools.cxTwoPoint)\n",
    "\n",
    "# register: function mutate, multiple flip bits in probability 0.05\n",
    "toolbox.register(\"mutate\", tools.mutFlipBit, indpb=0.05)"
   ]
  },
  {
   "cell_type": "code",
   "execution_count": 10,
   "metadata": {
    "collapsed": true
   },
   "outputs": [],
   "source": [
    "# selTournament(individuals, k, tournsize, fit_attr='fitness'): \n",
    "#   Select k individuals from the input individuals using k tournaments of tournsize individuals.\n",
    "toolbox.register(\"select\", tools.selTournament, tournsize=3)"
   ]
  },
  {
   "cell_type": "raw",
   "metadata": {},
   "source": [
    "# distributing tasks over a cluster of computers.\n",
    "from scoop import futures\n",
    "toolbox.register(\"map\", futures.map)"
   ]
  },
  {
   "cell_type": "raw",
   "metadata": {
    "collapsed": true
   },
   "source": [
    "# run on a single multicore machine.\n",
    "import multiprocessing\n",
    "pool = multiprocessing.Pool()\n",
    "# register: function map, parameters: pool.map\n",
    "toolbox.register(\"map\", pool.map)"
   ]
  },
  {
   "cell_type": "code",
   "execution_count": 16,
   "metadata": {
    "collapsed": true
   },
   "outputs": [],
   "source": [
    "if __name__ == \"__main__\":\n",
    "    pop = toolbox.population(n=300) #pop: population, n: number of chromosome\n",
    "    \n",
    "    #ngen: number of geneation, cxpb: mate probability, mutpb: mutation probability\n",
    "    ngen, cxpb, mutpb = 200, 0.5, 0.2 "
   ]
  },
  {
   "cell_type": "markdown",
   "metadata": {},
   "source": [
    "print(type(pop))\n",
    "print(len(pop[0]))\n",
    "pop[0]"
   ]
  },
  {
   "cell_type": "code",
   "execution_count": 12,
   "metadata": {},
   "outputs": [
    {
     "name": "stdout",
     "output_type": "stream",
     "text": [
      "[1, 1, 1, 1, 1, 1, 1, 1, 1, 1, 1, 1, 1, 1, 1, 1, 1, 1, 1, 1, 1, 1, 1, 1, 1, 1, 1, 1, 1, 1, 1, 1, 1, 1, 1, 1, 1, 1, 1, 1, 1, 1, 1, 1, 1, 1, 1, 1, 1, 1, 1, 1, 1, 1, 1, 1, 1, 1, 1, 1, 1, 1, 1, 1, 1, 1, 1, 1, 1, 1, 1, 1, 1, 1, 1, 1, 1, 1, 1, 1, 1, 1, 1, 1, 1, 1, 1, 1, 1, 1, 1, 1, 1, 1, 1, 1, 1, 1, 1, 1]\n"
     ]
    }
   ],
   "source": [
    "    for gen in range(ngen):\n",
    "        \n",
    "        # deap.algorithms.varAnd(population, toolbox, cxpb, mutpb)\n",
    "        # Parameters: population – A list of individuals to vary;\n",
    "        #             toolbox – A Toolbox that contains the evolution operators.\n",
    "        #             cxpb – The probability of mating two individuals.\n",
    "        #             mutpb – The probability of mutating an individual.\n",
    "        # Returns: A list of varied individuals that are independent of their parents.\n",
    "        osp = algorithms.varAnd(pop, toolbox, cxpb=0.5, mutpb=0.05) #osp: offspring\n",
    "        #print(len(osp))\n",
    "      \n",
    "        # toolbox.map(function, sequence)\n",
    "        # Parameters: iterate all elements of sequence as the element of function,\n",
    "        # Returns: List\n",
    "        fits = toolbox.map(toolbox.evaluate, osp)\n",
    "        \n",
    "        for fit, ind in zip(fits, osp):\n",
    "            ind.fitness.values = fit\n",
    "        \n",
    "        # toolbox.select()\n",
    "        pop = toolbox.select(osp, k=len(pop))\n",
    "    top10 = tools.selBest(pop, k=10)\n",
    "    print(top10[0])"
   ]
  },
  {
   "cell_type": "raw",
   "metadata": {},
   "source": [
    "# for testing\n",
    "a = [1,2,3]\n",
    "b = [4,5,6]\n",
    "c = [4,5,6,7,8]\n",
    "zipped = zip(a,b)\n",
    "print(list(zip(a,b)))\n",
    "print(list(zip(a,c)))\n",
    "print(list(zip(*zipped)))"
   ]
  },
  {
   "cell_type": "code",
   "execution_count": null,
   "metadata": {
    "collapsed": true
   },
   "outputs": [],
   "source": []
  }
 ],
 "metadata": {
  "celltoolbar": "Raw Cell Format",
  "kernelspec": {
   "display_name": "Python 3",
   "language": "python",
   "name": "python3"
  },
  "language_info": {
   "codemirror_mode": {
    "name": "ipython",
    "version": 3
   },
   "file_extension": ".py",
   "mimetype": "text/x-python",
   "name": "python",
   "nbconvert_exporter": "python",
   "pygments_lexer": "ipython3",
   "version": "3.6.3"
  }
 },
 "nbformat": 4,
 "nbformat_minor": 2
}
