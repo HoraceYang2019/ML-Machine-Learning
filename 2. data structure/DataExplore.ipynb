{
 "cells": [
  {
   "cell_type": "markdown",
   "metadata": {},
   "source": [
    "0. Helllo.py\n",
    "1. DataExplore.py\n",
    "2. LogicOperation.py\n",
    "2. FileProcess.py\n",
    "3. DataPlot.py"
   ]
  },
  {
   "cell_type": "markdown",
   "metadata": {},
   "source": [
    "## 0. Helllo"
   ]
  },
  {
   "cell_type": "code",
   "execution_count": 25,
   "metadata": {},
   "outputs": [
    {
     "name": "stdout",
     "output_type": "stream",
     "text": [
      "HelloWorld\n",
      "HelloWorld_Text\n"
     ]
    }
   ],
   "source": [
    "print(\"HelloWorld\")\n",
    "\n",
    "text=\"HelloWorld_Text\"\n",
    "print(text)"
   ]
  },
  {
   "cell_type": "markdown",
   "metadata": {},
   "source": [
    "### 1. DataExplore"
   ]
  },
  {
   "cell_type": "markdown",
   "metadata": {},
   "source": [
    "### <font color='blue'> variables and reference</font>"
   ]
  },
  {
   "cell_type": "code",
   "execution_count": 26,
   "metadata": {},
   "outputs": [
    {
     "name": "stdout",
     "output_type": "stream",
     "text": [
      "<class 'float'>\n",
      "2640784798160\n"
     ]
    }
   ],
   "source": [
    "# Data with operation \n",
    "\n",
    "height = 179.0\n",
    "weight = 6870\n",
    "bmi = weight / height ** 2\n",
    "print(type(bmi))  # real numbers\n",
    "print(id(weight))"
   ]
  },
  {
   "cell_type": "code",
   "execution_count": 27,
   "metadata": {},
   "outputs": [
    {
     "name": "stdout",
     "output_type": "stream",
     "text": [
      "6870 id is  2640784798160\n",
      "2061.0 id is  2640762852528\n"
     ]
    }
   ],
   "source": [
    "w = weight \n",
    "print(w, 'id is ', id(w))\n",
    "\n",
    "w = weight *0.3\n",
    "print(w, 'id is ',id(w))"
   ]
  },
  {
   "cell_type": "code",
   "execution_count": 28,
   "metadata": {},
   "outputs": [],
   "source": [
    "day_of_week = 5\n",
    " #-----------\n",
    "x = \"body mass index\"\n",
    "y = 'this works too'\n",
    "z= x+y"
   ]
  },
  {
   "cell_type": "code",
   "execution_count": 29,
   "metadata": {},
   "outputs": [
    {
     "data": {
      "text/plain": [
       "1"
      ]
     },
     "execution_count": 29,
     "metadata": {},
     "output_type": "execute_result"
    }
   ],
   "source": [
    "# Boolean\n",
    "F1 = True\n",
    "F2 = False\n",
    "F1+F2"
   ]
  },
  {
   "cell_type": "code",
   "execution_count": 30,
   "metadata": {},
   "outputs": [],
   "source": [
    "### <font color='blue'>Array and Matrix Operation</font>"
   ]
  },
  {
   "cell_type": "code",
   "execution_count": 31,
   "metadata": {},
   "outputs": [
    {
     "name": "stdout",
     "output_type": "stream",
     "text": [
      "[1.73, 1.68, 1.71, 1.89]\n"
     ]
    }
   ],
   "source": [
    "# Array and mtatrix\n",
    "h1 = 1.73\n",
    "h2 = 1.68\n",
    "h3 = 1.71\n",
    "h4 = 1.89\n",
    "H1 = [h1, h2, h3, h4]\n",
    "print(H1)"
   ]
  },
  {
   "cell_type": "code",
   "execution_count": 32,
   "metadata": {},
   "outputs": [],
   "source": [
    "### elements can be different in a list\n",
    "### lists can be in a list"
   ]
  },
  {
   "cell_type": "code",
   "execution_count": 33,
   "metadata": {},
   "outputs": [
    {
     "data": {
      "text/plain": [
       "[1.71, 'dad', 1.89]"
      ]
     },
     "execution_count": 33,
     "metadata": {},
     "output_type": "execute_result"
    }
   ],
   "source": [
    "H2 = [\"liz\", 1.73, \"emma\", 1.68, \"mom\", 1.71, \"dad\", 1.89]\n",
    "H2[0]\n",
    "H2[0][0]\n",
    "\n",
    "#--------- two dimensions\n",
    "\n",
    "H3 = [[\"liz\", 1.73],\n",
    "        [\"emma\", 1.68],\n",
    "        [\"mom\", 1.71],\n",
    "        [\"dad\", 1.89]]\n",
    "\n",
    "H3[0]\n",
    "H3[0][0]\n",
    "H3[0][0][0]\n",
    " \n",
    "    # find elements\n",
    "H2[-1] \n",
    "H2[-2]\n",
    "H2[1:3]\n",
    "H2[:4]\n",
    "H2[5:]"
   ]
  },
  {
   "cell_type": "code",
   "execution_count": 34,
   "metadata": {},
   "outputs": [
    {
     "name": "stdout",
     "output_type": "stream",
     "text": [
      "('a', 'b', 'c', 'd', 1, 2, 3)\n",
      "()\n",
      "(1,)\n"
     ]
    }
   ],
   "source": [
    "# element cannot be changed in a tuple, try it!\n",
    "T = ('a','b','c','d',1,2,3)\n",
    "print(T)\n",
    "\n",
    "T = () # reset the contains\n",
    "print(T)\n",
    "\n",
    "T = (1,)\n",
    "print(T)"
   ]
  },
  {
   "cell_type": "markdown",
   "metadata": {},
   "source": [
    "### <font color='blue'>Operation of Array</font>"
   ]
  },
  {
   "cell_type": "code",
   "execution_count": 35,
   "metadata": {},
   "outputs": [],
   "source": [
    "H2[0:2] = [\"lisa\", 1.74]\n",
    "\n",
    " # \n",
    "del(H2[2])\n",
    "\n",
    "tallest = max(H1)\n",
    "shortest = min(H1)"
   ]
  },
  {
   "cell_type": "code",
   "execution_count": 36,
   "metadata": {},
   "outputs": [
    {
     "name": "stdout",
     "output_type": "stream",
     "text": [
      "Help on built-in function round in module builtins:\n",
      "\n",
      "round(number, ndigits=None)\n",
      "    Round a number to a given precision in decimal digits.\n",
      "    \n",
      "    The return value is an integer if ndigits is omitted or None.  Otherwise\n",
      "    the return value has the same type as the number.  ndigits may be negative.\n",
      "\n"
     ]
    },
    {
     "data": {
      "text/plain": [
       "1"
      ]
     },
     "execution_count": 36,
     "metadata": {},
     "output_type": "execute_result"
    }
   ],
   "source": [
    "# functions\n",
    "\n",
    "round(16.68, 1) # 1 代表小數點右邊一位\n",
    "round(16.68)  # 沒有第二個引數代表小數點右邊 0 位\n",
    "help(round)\n",
    "round(16.68,-1)  # -1 代表小數點左邊一位\n",
    "\n",
    "H2.index(\"mom\") # find the index \n",
    "H2.count(1.73) # count \n",
    "H2.count(1.71)"
   ]
  },
  {
   "cell_type": "markdown",
   "metadata": {},
   "source": [
    "### <font color='blue'>String Operation</font>"
   ]
  },
  {
   "cell_type": "code",
   "execution_count": 37,
   "metadata": {},
   "outputs": [],
   "source": [
    "# String Operation\n",
    "sister = \"liz\"\n",
    "sister.capitalize()\n",
    "sister.replace(\"z\", \"sa\")\n",
    "\n",
    "H2.append(\"me\")\n",
    "H2.append(1.79)"
   ]
  },
  {
   "cell_type": "markdown",
   "metadata": {},
   "source": [
    "### <font color='blue'>import package: numpy</font>"
   ]
  },
  {
   "cell_type": "code",
   "execution_count": 48,
   "metadata": {},
   "outputs": [
    {
     "name": "stdout",
     "output_type": "stream",
     "text": [
      "[37.80346821 35.23809524 37.19298246 46.77248677]\n"
     ]
    }
   ],
   "source": [
    "import numpy\n",
    "x=numpy.array([1, 2, 3])\n",
    "\n",
    "import numpy as np\n",
    "np.array([1, 2, 3])\n",
    "\n",
    "from numpy import array\n",
    "array([1, 2, 3])\n",
    "\n",
    "W1 = [65.4, 59.2, 63.6, 88.4]\n",
    "#W1 / H1 \n",
    "c=np.divide(W1,H1)\n",
    "print(c)"
   ]
  },
  {
   "cell_type": "code",
   "execution_count": 41,
   "metadata": {},
   "outputs": [
    {
     "data": {
      "text/plain": [
       "array([21.85171573, 21.75028214, 24.7473475 ])"
      ]
     },
     "execution_count": 41,
     "metadata": {},
     "output_type": "execute_result"
    }
   ],
   "source": [
    "np_height = np.array(H1)\n",
    "np_weight = np.array(W1)\n",
    "bmi = np_weight / np_height ** 2\n",
    "\n",
    " #---- Different types: different behavior!\n",
    "python_list = [1, 2, 3]\n",
    "python_list + python_list\n",
    "\n",
    "numpy_array = np.array([1, 2, 3])\n",
    "numpy_array + numpy_array\n",
    "\n",
    " #---- Numpy Subsetting\n",
    "bmi[1]\n",
    "bmi > 21\n",
    "bmi[bmi > 21]"
   ]
  },
  {
   "cell_type": "code",
   "execution_count": 42,
   "metadata": {},
   "outputs": [
    {
     "data": {
      "text/plain": [
       "1.71"
      ]
     },
     "execution_count": 42,
     "metadata": {},
     "output_type": "execute_result"
    }
   ],
   "source": [
    "# 2D Numpy Arrays\n",
    "np_2d = np.array([[1.73, 1.68, 1.71, 1.89, 1.79],\n",
    "                  [65.4, 59.2, 63.6, 88.4, 68.7]])\n",
    "\n",
    "np_2d.shape   # 2 rows, 5 columns\n",
    "np_2d[0]\n",
    "np_2d[1]\n",
    "np_2d[:,1:3]\n",
    "np_2d[0][2]\n",
    "np_2d[0,2]"
   ]
  },
  {
   "cell_type": "code",
   "execution_count": 43,
   "metadata": {},
   "outputs": [
    {
     "data": {
      "text/plain": [
       "0.19760222750768774"
      ]
     },
     "execution_count": 43,
     "metadata": {},
     "output_type": "execute_result"
    }
   ],
   "source": [
    "# In[7]:\n",
    "height = np.round(np.random.normal(1.75, 0.20, 5000), 2)\n",
    "weight = np.round(np.random.normal(60.32, 15, 5000), 2)\n",
    "np_city = np.column_stack((height, weight))\n",
    "np.mean(np_city[:,0])\n",
    "np.median(np_city[:,0])\n",
    "np.std(np_city[:,0])"
   ]
  },
  {
   "cell_type": "code",
   "execution_count": 44,
   "metadata": {},
   "outputs": [],
   "source": [
    "# Ranges "
   ]
  },
  {
   "cell_type": "code",
   "execution_count": 46,
   "metadata": {},
   "outputs": [
    {
     "data": {
      "text/plain": [
       "array([ 3,  8, 13, 18, 23, 28])"
      ]
     },
     "execution_count": 46,
     "metadata": {},
     "output_type": "execute_result"
    }
   ],
   "source": [
    "np.arange(5) # np.arange(end): An array starting with 0 of increasing consecutive integers, stopping before end.\n",
    "# 一個數組以0開始的連續整數增加，停止結束之前。\n",
    "\n",
    "np.arange(3, 9) # np.a\n",
    "\n",
    "#np.range(start, end): An array of consecutive increasing integers from start, stopping before end\n",
    "# 從start，stoppin開始的連續遞增整數數組結束前\n",
    "\n",
    "np.arange(3, 30, 5) "
   ]
  },
  {
   "cell_type": "markdown",
   "metadata": {},
   "source": [
    "### <font color='blue'> Dictionary Operation</font>"
   ]
  },
  {
   "cell_type": "code",
   "execution_count": 22,
   "metadata": {},
   "outputs": [
    {
     "name": "stdout",
     "output_type": "stream",
     "text": [
      "{'Name': 'Jivin', 'Age': 6} 2640762823616\n",
      "{'Name': 'Jivin', 'Age': 6} 2640762837504\n"
     ]
    }
   ],
   "source": [
    "# In[]\n",
    "D = {'Name':'Jivin', 'Age': 6};\n",
    "\n",
    "dict1 = D.copy()\n",
    "print(D, id(D))\n",
    "print(dict1, id(dict1))"
   ]
  },
  {
   "cell_type": "code",
   "execution_count": null,
   "metadata": {},
   "outputs": [],
   "source": [
    "r = b'ASCII string'"
   ]
  }
 ],
 "metadata": {
  "kernelspec": {
   "display_name": "Python 3",
   "language": "python",
   "name": "python3"
  },
  "language_info": {
   "codemirror_mode": {
    "name": "ipython",
    "version": 3
   },
   "file_extension": ".py",
   "mimetype": "text/x-python",
   "name": "python",
   "nbconvert_exporter": "python",
   "pygments_lexer": "ipython3",
   "version": "3.8.3"
  }
 },
 "nbformat": 4,
 "nbformat_minor": 4
}
