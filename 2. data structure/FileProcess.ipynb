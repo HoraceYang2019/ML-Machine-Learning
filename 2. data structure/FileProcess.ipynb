{
 "cells": [
  {
   "cell_type": "markdown",
   "metadata": {},
   "source": [
    "### <font color='blue'>File I/O</font>"
   ]
  },
  {
   "cell_type": "code",
   "execution_count": 1,
   "metadata": {},
   "outputs": [],
   "source": [
    "vehicles = ['scooter\\n', 'bike\\n', 'car\\n']\n",
    "f1 = open('vehicles.txt', 'a')\n",
    "f1.writelines(vehicles)\n",
    "f1.close()\n",
    "\n",
    "f2 = open('vehicles.txt')\n",
    "data = f2.readlines()"
   ]
  },
  {
   "cell_type": "markdown",
   "metadata": {},
   "source": [
    "### <font color='blue'>using Dataframe</font>"
   ]
  },
  {
   "cell_type": "code",
   "execution_count": 5,
   "metadata": {},
   "outputs": [
    {
     "data": {
      "text/plain": [
       "0          Brazil\n",
       "1          Russia\n",
       "2           India\n",
       "3           China\n",
       "4    South Africa\n",
       "Name: country, dtype: object"
      ]
     },
     "execution_count": 5,
     "metadata": {},
     "output_type": "execute_result"
    }
   ],
   "source": [
    "import pandas as pd\n",
    "abs_path ='D:/Dropbox/Teaching/Cloud-Computing/CC 2020/2. data structure/Codes/'\n",
    "df = pd.read_csv(abs_path+'brics.csv')\n",
    "\n",
    " # column access\n",
    "df.country #Column access\n",
    "df[\"country\"]"
   ]
  },
  {
   "cell_type": "code",
   "execution_count": 8,
   "metadata": {},
   "outputs": [
    {
     "name": "stdout",
     "output_type": "stream",
     "text": [
      "                capital    area  population  on_earth       density\n",
      "country                                                            \n",
      "Brazil         brasilia   8.516      200.40      True  2.353217e+07\n",
      "Russia           Moscow  17.100      143.50      True  8.391813e+06\n",
      "India         New Delhi   3.286     1252.00      True  3.810103e+08\n",
      "China           Beijing   9.597     1357.00      True  1.413984e+08\n",
      "South Africa   Pretoria   1.221       52.98      True  4.339066e+07\n"
     ]
    }
   ],
   "source": [
    "# delete index\n",
    "df = pd.read_csv(abs_path+\"brics.csv\", index_col = 0)\n",
    " \n",
    "    #Row access\n",
    "df.loc[\"Brazil\"] \n",
    "\n",
    "#Element access\n",
    "df.loc[\"China\",\"capital\"] \n",
    "df[\"capital\"].loc[\"China\"]\n",
    "df.loc[\"China\"][\"capital\"]\n",
    "\n",
    " #Add Column\n",
    "df[\"on_earth\"] = [True, True, True, True, True] \n",
    "df[\"density\"] = df[\"population\"] / df[\"area\"] * 1000000\n",
    "print(df)\n",
    "\n",
    "df.to_csv('brices2.csv')"
   ]
  },
  {
   "cell_type": "markdown",
   "metadata": {},
   "source": [
    "### <font color='blue'>read column data from csv file</font>"
   ]
  },
  {
   "cell_type": "code",
   "execution_count": null,
   "metadata": {},
   "outputs": [],
   "source": [
    "import csv\n",
    "\n",
    "fileName= 'test.csv'\n",
    "data = ['4', 'Jaky', 'M']\n",
    "\n",
    "data[1]='Yang'"
   ]
  },
  {
   "cell_type": "code",
   "execution_count": null,
   "metadata": {},
   "outputs": [],
   "source": [
    "# formal form for reading file\n",
    "try:\n",
    "    csvfile = open(fileName, newline='\\n')\n",
    "    for rowdata in csv.reader(csvfile):\n",
    "         print(rowdata)\n",
    "    \n",
    "except:\n",
    "    print (\"fail to read\")\n",
    "    exit(-1)\n",
    "finally:\n",
    "    csvfile.close();          "
   ]
  },
  {
   "cell_type": "code",
   "execution_count": null,
   "metadata": {},
   "outputs": [],
   "source": [
    "# compact form for reading file\n",
    "with open(fileName, 'r', newline='\\n') as f1:\n",
    "    for rowdata in csv.reader(f1):\n",
    "        print(rowdata)\n",
    "       "
   ]
  },
  {
   "cell_type": "markdown",
   "metadata": {},
   "source": [
    "### <font color='blue'>write a csv file</font>"
   ]
  },
  {
   "cell_type": "code",
   "execution_count": null,
   "metadata": {},
   "outputs": [],
   "source": [
    "with open(fileName, 'a', newline='') as f2:        \n",
    "    rowdata = csv.writer(f2, delimiter=',')\n",
    "    rowdata.writerow(data)        "
   ]
  },
  {
   "cell_type": "markdown",
   "metadata": {},
   "source": [
    "### <font color='blue'> read file in json</font>"
   ]
  },
  {
   "cell_type": "code",
   "execution_count": null,
   "metadata": {},
   "outputs": [],
   "source": [
    "import json\n",
    "from pprint import pprint\n",
    "\n",
    "# Define data\n",
    "data = {'CNC':\n",
    "        {'Spindle':{'Current':[38.1, 38.2, 39.0],\n",
    "                    'Vib':{'x':0.2, 'y':0.15}},\n",
    "        'X Motor':2.5,\n",
    "        'Z Motor':1.3}}\n",
    "\n",
    "data[\"CNC\"]['Spindle']['Current'][0]=3"
   ]
  },
  {
   "cell_type": "code",
   "execution_count": null,
   "metadata": {},
   "outputs": [],
   "source": [
    "#-------------------------------------------------------------------------\n",
    "with open('test.json', 'w') as f1:\n",
    "  json.dump(data, f1, ensure_ascii=False, indent=0 )\n",
    "  \n",
    "with open('test.json') as f2:\n",
    "    rData = json.loads(f2.read())\n",
    "pprint(rData)  "
   ]
  },
  {
   "cell_type": "code",
   "execution_count": null,
   "metadata": {},
   "outputs": [],
   "source": []
  }
 ],
 "metadata": {
  "kernelspec": {
   "display_name": "Python 3",
   "language": "python",
   "name": "python3"
  },
  "language_info": {
   "codemirror_mode": {
    "name": "ipython",
    "version": 3
   },
   "file_extension": ".py",
   "mimetype": "text/x-python",
   "name": "python",
   "nbconvert_exporter": "python",
   "pygments_lexer": "ipython3",
   "version": "3.8.3"
  }
 },
 "nbformat": 4,
 "nbformat_minor": 4
}
